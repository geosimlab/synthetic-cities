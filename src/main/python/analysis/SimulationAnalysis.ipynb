{
 "cells": [
  {
   "cell_type": "code",
   "execution_count": null,
   "metadata": {
    "slideshow": {
     "slide_type": "notes"
    }
   },
   "outputs": [],
   "source": [
    "import glob\n",
    "import os \n",
    "\n",
    "import matplotlib.pyplot as plt\n",
    "import pandas as pd"
   ]
  },
  {
   "cell_type": "code",
   "execution_count": null,
   "metadata": {
    "slideshow": {
     "slide_type": "notes"
    }
   },
   "outputs": [],
   "source": [
    "import files\n",
    "import occupancy\n",
    "import wait_times\n",
    "import vehicles"
   ]
  },
  {
   "cell_type": "markdown",
   "metadata": {
    "slideshow": {
     "slide_type": "skip"
    }
   },
   "source": [
    "# General Utils"
   ]
  },
  {
   "cell_type": "code",
   "execution_count": null,
   "metadata": {
    "slideshow": {
     "slide_type": "skip"
    }
   },
   "outputs": [],
   "source": [
    "SCENARIOS_PATH = r\"E:/Files/CodeProjects/MATSim/Scenarios/\"\n",
    "RUN_DIR = \"runner-tests/OneToFive80x800.5/OneToFive80x800\"\n",
    "PATH = os.path.join(SCENARIOS_PATH, RUN_DIR)\n",
    "\n",
    "\n",
    "def fmt_timedelta(x):\n",
    "    ts = x.total_seconds()\n",
    "    hours, remainder = divmod(ts, 3600)\n",
    "    minutes, _ = divmod(remainder, 60)\n",
    "    return ('{:02d}:{:02d}').format(int(hours), int(minutes)) \n"
   ]
  },
  {
   "cell_type": "markdown",
   "metadata": {
    "slideshow": {
     "slide_type": "slide"
    }
   },
   "source": [
    "# Wait time utils"
   ]
  },
  {
   "cell_type": "code",
   "execution_count": null,
   "metadata": {
    "slideshow": {
     "slide_type": "subslide"
    }
   },
   "outputs": [],
   "source": [
    "r = files.iterate_algorithms(PATH, wait_times.get_wait_stats)\n",
    "pd.DataFrame(r).stack().unstack(level=-2)"
   ]
  },
  {
   "cell_type": "markdown",
   "metadata": {
    "slideshow": {
     "slide_type": "slide"
    }
   },
   "source": [
    "# Population Utils"
   ]
  },
  {
   "cell_type": "code",
   "execution_count": null,
   "metadata": {
    "slideshow": {
     "slide_type": "subslide"
    }
   },
   "outputs": [],
   "source": [
    "def get_origin_destination_data(alg_path):\n",
    "    pop_filename = \"Population*.xml.DistanceInfo.csv\"\n",
    "    path = glob.glob(os.path.join(alg_path, pop_filename))[0]\n",
    "    df = pd.read_csv(path, names=[\"person\", \"distance\"], skiprows=1)\n",
    "    return pd.cut(df[\"distance\"], include_lowest=True, bins=10)\n",
    "\n",
    "\n",
    "out = get_origin_destination_data(PATH+\"/DRT\")\n",
    "ax = out.value_counts(sort=False).plot.bar(rot=0, color=\"b\", figsize=(12,8))\n",
    "ticks = [(round(c.left), round(c.right)) for c in out.cat.categories]\n",
    "ax.set_xticklabels(ticks)\n",
    "ax.set_xlabel(\"Home to Work Distance [m]\")\n",
    "ax.set_ylabel(\"Number of People\")\n",
    "plt.xticks(rotation=45)\n",
    "plt.show()"
   ]
  },
  {
   "cell_type": "markdown",
   "metadata": {},
   "source": [
    "# Fleet distance"
   ]
  },
  {
   "cell_type": "code",
   "execution_count": null,
   "metadata": {},
   "outputs": [],
   "source": [
    "r = files.iterate_algorithms(PATH, vehicles.get_distances_stats)\n",
    "pd.DataFrame(r).stack().unstack(level=-2) / 1000"
   ]
  },
  {
   "cell_type": "markdown",
   "metadata": {
    "slideshow": {
     "slide_type": "slide"
    }
   },
   "source": [
    "# Ocuupancy utils"
   ]
  },
  {
   "cell_type": "code",
   "execution_count": null,
   "metadata": {
    "slideshow": {
     "slide_type": "subslide"
    }
   },
   "outputs": [],
   "source": [
    "df = files.iterate_algorithms(PATH, occupancy.get_ocucpancy_aggregation)\n",
    "df = pd.DataFrame(df).stack().unstack(level=-2).fillna(0)\n",
    "df.style.format({col: '{:,.2f}%'\n",
    "                 for col in df.columns})"
   ]
  },
  {
   "cell_type": "code",
   "execution_count": null,
   "metadata": {
    "slideshow": {
     "slide_type": "subslide"
    }
   },
   "outputs": [],
   "source": [
    "axes = files.iterate_algorithms(PATH, occupancy.get_occupancy_graphs)\n",
    "fig = plt.figure()\n",
    "map(fig.add_axes, axes)\n",
    "fig"
   ]
  }
 ],
 "metadata": {
  "celltoolbar": "Raw Cell Format",
  "kernelspec": {
   "display_name": "Python 3",
   "language": "python",
   "name": "python3"
  },
  "language_info": {
   "codemirror_mode": {
    "name": "ipython",
    "version": 3
   },
   "file_extension": ".py",
   "mimetype": "text/x-python",
   "name": "python",
   "nbconvert_exporter": "python",
   "pygments_lexer": "ipython3",
   "version": "3.8.0"
  }
 },
 "nbformat": 4,
 "nbformat_minor": 2
}
