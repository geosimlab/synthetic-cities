{
 "cells": [
  {
   "cell_type": "code",
   "execution_count": 9,
   "metadata": {
    "collapsed": true,
    "slideshow": {
     "slide_type": "notes"
    }
   },
   "outputs": [],
   "source": [
    "import glob\n",
    "import os \n",
    "\n",
    "import matplotlib.pyplot as plt\n",
    "import pandas as pd\n",
    "import seaborn as sns\n",
    "sns.set(font_scale=1.4)"
   ]
  },
  {
   "cell_type": "code",
   "execution_count": 2,
   "metadata": {
    "collapsed": true,
    "slideshow": {
     "slide_type": "notes"
    }
   },
   "outputs": [],
   "source": [
    "import files\n",
    "import occupancy\n",
    "import wait_times\n",
    "import vehicles\n",
    "import constants"
   ]
  },
  {
   "cell_type": "markdown",
   "metadata": {
    "slideshow": {
     "slide_type": "skip"
    }
   },
   "source": [
    "# General Utils"
   ]
  },
  {
   "cell_type": "code",
   "execution_count": null,
   "metadata": {
    "collapsed": true,
    "slideshow": {
     "slide_type": "skip"
    }
   },
   "outputs": [],
   "source": [
    "SCENARIOS_PATH = r\"E:/Files/CodeProjects/MATSim/Scenarios/\"\n",
    "RUN_DIR = \"amod2_tests/fix_branch\"\n",
    "PATH = os.path.join(SCENARIOS_PATH, RUN_DIR)"
   ]
  },
  {
   "cell_type": "markdown",
   "metadata": {
    "slideshow": {
     "slide_type": "slide"
    }
   },
   "source": [
    "# Wait time utils"
   ]
  },
  {
   "cell_type": "code",
   "execution_count": null,
   "metadata": {
    "collapsed": true,
    "slideshow": {
     "slide_type": "subslide"
    }
   },
   "outputs": [],
   "source": [
    "r = files.iterate_algorithms(PATH, wait_times.get_wait_stats)\n",
    "pd.DataFrame(r).stack().unstack(level=-2)"
   ]
  },
  {
   "cell_type": "markdown",
   "metadata": {},
   "source": [
    "# Fleet distance"
   ]
  },
  {
   "cell_type": "code",
   "execution_count": null,
   "metadata": {
    "collapsed": true
   },
   "outputs": [],
   "source": [
    "r = files.iterate_algorithms(PATH, vehicles.get_distances_stats)\n",
    "pd.DataFrame(r).stack().unstack(level=-2) / 1000"
   ]
  },
  {
   "cell_type": "markdown",
   "metadata": {
    "slideshow": {
     "slide_type": "slide"
    }
   },
   "source": [
    "# Ocuupancy utils"
   ]
  },
  {
   "cell_type": "code",
   "execution_count": null,
   "metadata": {
    "collapsed": true,
    "slideshow": {
     "slide_type": "subslide"
    }
   },
   "outputs": [],
   "source": [
    "df2 = files.iterate_algorithms(PATH, occupancy.get_ocucpancy_aggregation)\n",
    "df = pd.DataFrame(df2).stack().unstack(level=-2).fillna(0)\n",
    "df.style.format({col: '{:,.2f}%'\n",
    "                 for col in df.columns if \"avg\" not in col})"
   ]
  },
  {
   "cell_type": "code",
   "execution_count": null,
   "metadata": {
    "collapsed": true
   },
   "outputs": [],
   "source": [
    "ax = df[\"avg number of passengers\"].unstack(level=0)\\\n",
    "    .plot.bar(rot=0, \n",
    "              title=\"Avg number of passengers at peak times\", \n",
    "              color=sns.color_palette(\"Set2\", desat=0.7))\n",
    "ax.set_ylabel(\"avg number of passengers\")\n",
    "ax.set_xticklabels([constants.LONG_TO_SHORT_NAME[tick.get_text()] for tick in ax.get_xticklabels()])\n",
    "ax"
   ]
  },
  {
   "cell_type": "code",
   "execution_count": null,
   "metadata": {
    "collapsed": true,
    "slideshow": {
     "slide_type": "subslide"
    }
   },
   "outputs": [],
   "source": [
    "occupancy_dfs = files.iterate_algorithms(PATH, occupancy.get_occupancy_per_hour)\n",
    "fig, axes = plt.subplots(nrows=2, ncols=3, figsize=(16,8))\n",
    "for i, alg in enumerate(occupancy_dfs.keys()):\n",
    "    ax = axes[i//3][i%3]\n",
    "    occupancy.plot_occuancy_data(occupancy_dfs[alg], alg, ax)\n",
    "fig.tight_layout()"
   ]
  }
 ],
 "metadata": {
  "celltoolbar": "Raw Cell Format",
  "kernelspec": {
   "display_name": "Python 3",
   "language": "python",
   "name": "python3"
  },
  "language_info": {
   "codemirror_mode": {
    "name": "ipython",
    "version": 3
   },
   "file_extension": ".py",
   "mimetype": "text/x-python",
   "name": "python",
   "nbconvert_exporter": "python",
   "pygments_lexer": "ipython3",
   "version": "3.8.0"
  }
 },
 "nbformat": 4,
 "nbformat_minor": 2
}
