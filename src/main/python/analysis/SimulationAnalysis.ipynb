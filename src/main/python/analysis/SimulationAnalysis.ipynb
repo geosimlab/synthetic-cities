{
 "cells": [
  {
   "cell_type": "code",
   "execution_count": null,
   "metadata": {
    "slideshow": {
     "slide_type": "notes"
    }
   },
   "outputs": [],
   "source": [
    "import glob\n",
    "import os \n",
    "\n",
    "import matplotlib.pyplot as plt\n",
    "import pandas as pd\n",
    "import seaborn as sns\n",
    "sns.set()"
   ]
  },
  {
   "cell_type": "code",
   "execution_count": null,
   "metadata": {
    "slideshow": {
     "slide_type": "notes"
    }
   },
   "outputs": [],
   "source": [
    "import files\n",
    "import occupancy\n",
    "import wait_times\n",
    "import vehicles\n",
    "import constants"
   ]
  },
  {
   "cell_type": "markdown",
   "metadata": {
    "slideshow": {
     "slide_type": "skip"
    }
   },
   "source": [
    "# General Utils"
   ]
  },
  {
   "cell_type": "code",
   "execution_count": null,
   "metadata": {
    "slideshow": {
     "slide_type": "skip"
    }
   },
   "outputs": [],
   "source": [
    "SCENARIOS_PATH = r\"E:/Files/CodeProjects/MATSim/Scenarios/\"\n",
    "RUN_DIR = \"amod2_tests/fix_branch\"\n",
    "PATH = os.path.join(SCENARIOS_PATH, RUN_DIR)"
   ]
  },
  {
   "cell_type": "markdown",
   "metadata": {
    "slideshow": {
     "slide_type": "slide"
    }
   },
   "source": [
    "# Wait time utils"
   ]
  },
  {
   "cell_type": "code",
   "execution_count": null,
   "metadata": {
    "slideshow": {
     "slide_type": "subslide"
    }
   },
   "outputs": [],
   "source": [
    "r = files.iterate_algorithms(PATH, wait_times.get_wait_stats)\n",
    "pd.DataFrame(r).stack().unstack(level=-2)"
   ]
  },
  {
   "cell_type": "markdown",
   "metadata": {
    "slideshow": {
     "slide_type": "slide"
    }
   },
   "source": [
    "# Population Utils"
   ]
  },
  {
   "cell_type": "code",
   "execution_count": null,
   "metadata": {
    "slideshow": {
     "slide_type": "subslide"
    }
   },
   "outputs": [],
   "source": [
    "bin_size_meters = 2000\n",
    "def get_origin_destination_data(alg_path):\n",
    "    pop_filename = \"Population*.xml.DistanceInfo.csv\"\n",
    "    path = glob.glob(os.path.join(alg_path, pop_filename))[0]\n",
    "    df = pd.read_csv(path, names=[\"person\", \"distance\"], skiprows=1)\n",
    "    return pd.cut(df[\"distance\"], include_lowest=True, bins=range(1,25000, bin_size_meters))\n",
    "\n",
    "\n",
    "out = get_origin_destination_data(PATH+\"/DRT\")\n",
    "ax = out.value_counts(sort=False).plot.bar(rot=0, color=\"b\", figsize=(8,6))\n",
    "ticks = [(int(c.left//bin_size_meters), int(c.right//bin_size_meters)) \n",
    "         for c in out.cat.categories]\n",
    "ax.set_xticklabels(ticks)\n",
    "\n",
    "ax.set_title(\"Home to Work Distance distribution\")\n",
    "ax.title.set_size(15)\n",
    "ax.set_xlabel(\"Home to Work Distance [km]\")\n",
    "ax.set_ylabel(\"Number of People\")\n",
    "plt.xticks(rotation=45)\n",
    "plt.show()"
   ]
  },
  {
   "cell_type": "markdown",
   "metadata": {},
   "source": [
    "# Fleet distance"
   ]
  },
  {
   "cell_type": "code",
   "execution_count": null,
   "metadata": {},
   "outputs": [],
   "source": [
    "r = files.iterate_algorithms(PATH, vehicles.get_distances_stats)\n",
    "pd.DataFrame(r).stack().unstack(level=-2) / 1000"
   ]
  },
  {
   "cell_type": "markdown",
   "metadata": {
    "slideshow": {
     "slide_type": "slide"
    }
   },
   "source": [
    "# Ocuupancy utils"
   ]
  },
  {
   "cell_type": "code",
   "execution_count": null,
   "metadata": {
    "slideshow": {
     "slide_type": "subslide"
    }
   },
   "outputs": [],
   "source": [
    "df2 = files.iterate_algorithms(PATH, occupancy.get_ocucpancy_aggregation)\n",
    "df = pd.DataFrame(df2).stack().unstack(level=-2).fillna(0)\n",
    "df.style.format({col: '{:,.2f}%'\n",
    "                 for col in df.columns if \"avg\" not in col})"
   ]
  },
  {
   "cell_type": "code",
   "execution_count": null,
   "metadata": {},
   "outputs": [],
   "source": [
    "ax = df[\"avg number of passengers\"].unstack(level=0)\\\n",
    "    .plot.bar(rot=0, \n",
    "              title=\"Avg number of passengers at peak times\", \n",
    "              color=sns.color_palette(\"Set2\", desat=0.7))\n",
    "ax.set_ylabel(\"avg number of passengers\")\n",
    "ax.set_xticklabels([constants.LONG_TO_SHORT_NAME[tick.get_text()] for tick in ax.get_xticklabels()])\n",
    "ax"
   ]
  },
  {
   "cell_type": "code",
   "execution_count": null,
   "metadata": {
    "scrolled": false,
    "slideshow": {
     "slide_type": "subslide"
    }
   },
   "outputs": [],
   "source": [
    "occupancy_dfs = files.iterate_algorithms(PATH, occupancy.get_occupancy_per_hour)\n",
    "fig, axes = plt.subplots(nrows=2, ncols=3, figsize=(16,8))\n",
    "for i, alg in enumerate(occupancy_dfs.keys()):\n",
    "    ax = axes[i//3][i%3]\n",
    "    occupancy.plot_occuancy_data(occupancy_dfs[alg], alg, ax)\n",
    "fig.tight_layout()"
   ]
  },
  {
   "cell_type": "code",
   "execution_count": null,
   "metadata": {},
   "outputs": [],
   "source": [
    "import matplotlib.dates as mdates\n",
    "\n",
    "data = [[\"0:29:31\", \"0:23:03\", \"0:43:58\", \"0:28:08\", \"0:25:19\"],\n",
    "[\"0:10:10\", \"0:04:53\", \"0:05:22\", \"0:08:20\", \"0:04:41\"],\n",
    "[\"0:08:27\", \"0:02:37\", \"0:04:22\", \"0:09:07\", \"0:02:22\"]]\n",
    "\n",
    "# data = [[\"1:24:57\", \"1:15:22\", \"2:05:10\", \"1:42:02\", \"2:00:16\"],\n",
    "# [\"0:21:47\", \"0:10:17\", \"0:10:04\", \"0:22:02\", \"0:10:03\"],\n",
    "# [\"0:20:19\", \"0:06:46\", \"0:08:11\", \"0:23:09\", \"0:05:34\"]]\n",
    "cols = [\"DRT\", \"Ext-DS\", \"DRSS\", \"HCRS\", \"Tshare\"]\n",
    "x = [80,160,320]\n",
    "df = pd.DataFrame(data, index=x, columns=cols)\n",
    "for c in cols:\n",
    "    df[c] = pd.to_datetime(df[c])\n",
    "\n",
    "ax = df.plot(figsize=(8,8))\n",
    "ax.set_xticks(x)\n",
    "ax.set_xlabel(\"Fleet size\")\n",
    "\n",
    "locator = mdates.AutoDateLocator(minticks=3, maxticks=7)\n",
    "formatter = mdates.ConciseDateFormatter(locator)\n",
    "ax.yaxis.set_major_locator(locator)\n",
    "ax.yaxis.set_major_formatter(formatter)\n",
    "ax.set_ylabel(\"Wait time [hh:mm]\")\n",
    "\n",
    "ax.set_title(\"Mean wait time\")\n",
    "ax.title.set_size(15)"
   ]
  }
 ],
 "metadata": {
  "celltoolbar": "Raw Cell Format",
  "kernelspec": {
   "display_name": "Python 3",
   "language": "python",
   "name": "python3"
  },
  "language_info": {
   "codemirror_mode": {
    "name": "ipython",
    "version": 3
   },
   "file_extension": ".py",
   "mimetype": "text/x-python",
   "name": "python",
   "nbconvert_exporter": "python",
   "pygments_lexer": "ipython3",
   "version": "3.8.0"
  }
 },
 "nbformat": 4,
 "nbformat_minor": 2
}
