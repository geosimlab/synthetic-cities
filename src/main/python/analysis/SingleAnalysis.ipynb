{
 "cells": [
  {
   "cell_type": "code",
   "execution_count": 1,
   "metadata": {},
   "outputs": [],
   "source": [
    "import glob\n",
    "import os \n",
    "\n",
    "import matplotlib.pyplot as plt\n",
    "import pandas as pd\n",
    "import seaborn as sns\n",
    "sns.set(font_scale=1.4)"
   ]
  },
  {
   "cell_type": "code",
   "execution_count": 2,
   "metadata": {},
   "outputs": [],
   "source": [
    "import files\n",
    "import occupancy\n",
    "import wait_times\n",
    "import vehicles\n",
    "import constants"
   ]
  },
  {
   "cell_type": "code",
   "execution_count": 52,
   "metadata": {},
   "outputs": [],
   "source": [
    "PATH = r\"E:\\Files\\CodeProjects\\MATSim\\Scenarios\\DRT-line-one-car-different-places\""
   ]
  },
  {
   "cell_type": "code",
   "execution_count": 53,
   "metadata": {},
   "outputs": [
    {
     "data": {
      "text/plain": [
       "mean wait                378.50\n",
       "95p wait                 699.00\n",
       "rejection rate             0.69\n",
       "avg travel time         3065.25\n",
       "avg direct distance     9900.00\n",
       "avg trip distance      11000.00\n",
       "dtype: float64"
      ]
     },
     "execution_count": 53,
     "metadata": {},
     "output_type": "execute_result"
    }
   ],
   "source": [
    "wait_times.get_wait_stats(PATH)"
   ]
  },
  {
   "cell_type": "code",
   "execution_count": 54,
   "metadata": {},
   "outputs": [
    {
     "data": {
      "text/plain": [
       "total distance          24100.00\n",
       "total empty distance     1600.00\n",
       "empty ratio                 0.07\n",
       "Name: 29, dtype: float64"
      ]
     },
     "execution_count": 54,
     "metadata": {},
     "output_type": "execute_result"
    }
   ],
   "source": [
    "vehicles.get_distances_stats(PATH)"
   ]
  },
  {
   "cell_type": "code",
   "execution_count": 55,
   "metadata": {},
   "outputs": [
    {
     "data": {
      "text/html": [
       "<style  type=\"text/css\" >\n",
       "</style><table id=\"T_1e092947_0cab_11eb_9950_708bcd14d36f\" ><thead>    <tr>        <th class=\"blank\" ></th>        <th class=\"blank level0\" ></th>        <th class=\"col_heading level0 col0\" >10 pax</th>        <th class=\"col_heading level0 col1\" >9 pax</th>        <th class=\"col_heading level0 col2\" >8 pax</th>        <th class=\"col_heading level0 col3\" >7 pax</th>        <th class=\"col_heading level0 col4\" >6 pax</th>        <th class=\"col_heading level0 col5\" >5 pax</th>        <th class=\"col_heading level0 col6\" >4 pax</th>        <th class=\"col_heading level0 col7\" >3 pax</th>        <th class=\"col_heading level0 col8\" >2 pax</th>        <th class=\"col_heading level0 col9\" >1 pax</th>        <th class=\"col_heading level0 col10\" >0 pax</th>        <th class=\"col_heading level0 col11\" >stay</th>        <th class=\"col_heading level0 col12\" >avg number of passengers</th>    </tr></thead><tbody>\n",
       "                <tr>\n",
       "                        <th id=\"T_1e092947_0cab_11eb_9950_708bcd14d36flevel0_row0\" class=\"row_heading level0 row0\" >morning</th>\n",
       "                        <th id=\"T_1e092947_0cab_11eb_9950_708bcd14d36flevel1_row0\" class=\"row_heading level1 row0\" >0</th>\n",
       "                        <td id=\"T_1e092947_0cab_11eb_9950_708bcd14d36frow0_col0\" class=\"data row0 col0\" >0.00</td>\n",
       "                        <td id=\"T_1e092947_0cab_11eb_9950_708bcd14d36frow0_col1\" class=\"data row0 col1\" >0.00</td>\n",
       "                        <td id=\"T_1e092947_0cab_11eb_9950_708bcd14d36frow0_col2\" class=\"data row0 col2\" >0.00</td>\n",
       "                        <td id=\"T_1e092947_0cab_11eb_9950_708bcd14d36frow0_col3\" class=\"data row0 col3\" >0.00</td>\n",
       "                        <td id=\"T_1e092947_0cab_11eb_9950_708bcd14d36frow0_col4\" class=\"data row0 col4\" >0.00</td>\n",
       "                        <td id=\"T_1e092947_0cab_11eb_9950_708bcd14d36frow0_col5\" class=\"data row0 col5\" >0.00</td>\n",
       "                        <td id=\"T_1e092947_0cab_11eb_9950_708bcd14d36frow0_col6\" class=\"data row0 col6\" >0.00</td>\n",
       "                        <td id=\"T_1e092947_0cab_11eb_9950_708bcd14d36frow0_col7\" class=\"data row0 col7\" >0.22</td>\n",
       "                        <td id=\"T_1e092947_0cab_11eb_9950_708bcd14d36frow0_col8\" class=\"data row0 col8\" >0.02</td>\n",
       "                        <td id=\"T_1e092947_0cab_11eb_9950_708bcd14d36frow0_col9\" class=\"data row0 col9\" >0.00</td>\n",
       "                        <td id=\"T_1e092947_0cab_11eb_9950_708bcd14d36frow0_col10\" class=\"data row0 col10\" >0.01</td>\n",
       "                        <td id=\"T_1e092947_0cab_11eb_9950_708bcd14d36frow0_col11\" class=\"data row0 col11\" >0.75</td>\n",
       "                        <td id=\"T_1e092947_0cab_11eb_9950_708bcd14d36frow0_col12\" class=\"data row0 col12\" >2.843396</td>\n",
       "            </tr>\n",
       "            <tr>\n",
       "                        <th id=\"T_1e092947_0cab_11eb_9950_708bcd14d36flevel0_row1\" class=\"row_heading level0 row1\" >evening</th>\n",
       "                        <th id=\"T_1e092947_0cab_11eb_9950_708bcd14d36flevel1_row1\" class=\"row_heading level1 row1\" >0</th>\n",
       "                        <td id=\"T_1e092947_0cab_11eb_9950_708bcd14d36frow1_col0\" class=\"data row1 col0\" >0.00</td>\n",
       "                        <td id=\"T_1e092947_0cab_11eb_9950_708bcd14d36frow1_col1\" class=\"data row1 col1\" >0.00</td>\n",
       "                        <td id=\"T_1e092947_0cab_11eb_9950_708bcd14d36frow1_col2\" class=\"data row1 col2\" >0.00</td>\n",
       "                        <td id=\"T_1e092947_0cab_11eb_9950_708bcd14d36frow1_col3\" class=\"data row1 col3\" >0.00</td>\n",
       "                        <td id=\"T_1e092947_0cab_11eb_9950_708bcd14d36frow1_col4\" class=\"data row1 col4\" >0.00</td>\n",
       "                        <td id=\"T_1e092947_0cab_11eb_9950_708bcd14d36frow1_col5\" class=\"data row1 col5\" >0.00</td>\n",
       "                        <td id=\"T_1e092947_0cab_11eb_9950_708bcd14d36frow1_col6\" class=\"data row1 col6\" >0.00</td>\n",
       "                        <td id=\"T_1e092947_0cab_11eb_9950_708bcd14d36frow1_col7\" class=\"data row1 col7\" >0.00</td>\n",
       "                        <td id=\"T_1e092947_0cab_11eb_9950_708bcd14d36frow1_col8\" class=\"data row1 col8\" >0.00</td>\n",
       "                        <td id=\"T_1e092947_0cab_11eb_9950_708bcd14d36frow1_col9\" class=\"data row1 col9\" >0.00</td>\n",
       "                        <td id=\"T_1e092947_0cab_11eb_9950_708bcd14d36frow1_col10\" class=\"data row1 col10\" >0.00</td>\n",
       "                        <td id=\"T_1e092947_0cab_11eb_9950_708bcd14d36frow1_col11\" class=\"data row1 col11\" >1.00</td>\n",
       "                        <td id=\"T_1e092947_0cab_11eb_9950_708bcd14d36frow1_col12\" class=\"data row1 col12\" >0.000000</td>\n",
       "            </tr>\n",
       "    </tbody></table>"
      ],
      "text/plain": [
       "<pandas.io.formats.style.Styler at 0x1b8252c1310>"
      ]
     },
     "execution_count": 55,
     "metadata": {},
     "output_type": "execute_result"
    }
   ],
   "source": [
    "df2 = occupancy.get_ocucpancy_aggregation(PATH)\n",
    "df = pd.DataFrame(df2).stack().unstack(level=-2).fillna(0)\n",
    "df.style.format({col: '{:,.2f}'\n",
    "                 for col in df.columns if \"avg\" not in col})"
   ]
  }
 ],
 "metadata": {
  "kernelspec": {
   "display_name": "Python 3",
   "language": "python",
   "name": "python3"
  },
  "language_info": {
   "codemirror_mode": {
    "name": "ipython",
    "version": 3
   },
   "file_extension": ".py",
   "mimetype": "text/x-python",
   "name": "python",
   "nbconvert_exporter": "python",
   "pygments_lexer": "ipython3",
   "version": "3.8.0"
  }
 },
 "nbformat": 4,
 "nbformat_minor": 2
}
